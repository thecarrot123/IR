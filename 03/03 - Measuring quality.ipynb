{
 "cells": [
  {
   "cell_type": "markdown",
   "id": "1b1f94b9-7b73-4748-9286-d786a69bdf71",
   "metadata": {},
   "source": [
    "# 1. Assessor and analyst work\n",
    "\n",
    "## 1.0. Rating and criteria\n",
    "\n",
    "Please [open this document](https://static.googleusercontent.com/media/guidelines.raterhub.com/en//searchqualityevaluatorguidelines.pdf)\n",
    "and study chapters 13.0-13.4. Your task will be to assess the organic answers of search engines given the same query.\n",
    "\n",
    "## 1.1. Explore the page\n",
    "\n",
    "For the following search engines:\n",
    "- https://duckduckgo.com/\n",
    "- https://www.bing.com/\n",
    "- https://ya.ru/\n",
    "- https://www.google.com/\n",
    "\n",
    "Perform the same query: \"**How to get from Kazan to Voronezh**\".\n",
    "\n",
    "Discuss with your TA the following:\n",
    "1. Which elements you may identify at SERP? Ads, snippets, blends from other sources, ...?\n",
    "2. Where are organic results? How many of them are there?\n",
    "\n",
    "## 1.2. Rate the results of the search engine\n",
    "\n",
    "If there are many of you in the group, assess all search engines, otherwise choose 1 or 2. There should be no less than 5 of your for each search engine. Use the scale from the handbook, use 0..4 numerical equivalents for . \n",
    "\n",
    "Compute:\n",
    "- average relevance and standard deviation.\n",
    "- [Fleiss kappa score](https://en.wikipedia.org/wiki/Fleiss%27_kappa#Worked_example). Use [this implementation](https://www.statsmodels.org/dev/generated/statsmodels.stats.inter_rater.fleiss_kappa.html).\n",
    "- [Kendall rank coefficient](https://en.wikipedia.org/wiki/Kendall_rank_correlation_coefficient). Use [this implementation](https://docs.scipy.org/doc/scipy/reference/generated/scipy.stats.kendalltau.html).\n",
    "\n",
    "Discuss numerical results. Did you agree on the relevance? Did you agree on the rank? What is the difference?"
   ]
  },
  {
   "cell_type": "code",
   "execution_count": 1,
   "id": "3c3738c6-ed54-4113-b75a-cba812c5aade",
   "metadata": {},
   "outputs": [],
   "source": [
    "import numpy as np\n",
    "\n",
    "ranking_data = np.array([\n",
    "    [4, 4, 4, 3, 4, 2, 2, 1, 1, 0], \n",
    "    [4, 3, 4, 3, 3, 2, 1, 1, 1, 1], \n",
    "    [3, 4, 4, 4, 4, 3, 2, 1, 1, 1], \n",
    "    [4, 4, 4, 4, 3, 2, 2, 1, 1, 0],\n",
    "    [4, 4, 4, 4, 3, 2, 2, 1, 1, 3]\n",
    "])"
   ]
  },
  {
   "cell_type": "markdown",
   "id": "32a88b0e-5ece-404c-9fc2-82c4d1bb3281",
   "metadata": {},
   "source": [
    "Averages ang standard deviations per item."
   ]
  },
  {
   "cell_type": "code",
   "execution_count": 2,
   "id": "59c53e3e-120f-45ec-94c1-f02d061f0177",
   "metadata": {},
   "outputs": [
    {
     "name": "stdout",
     "output_type": "stream",
     "text": [
      "relevance 0: 3.80 +- 0.400\n",
      "relevance 1: 3.80 +- 0.400\n",
      "relevance 2: 4.00 +- 0.000\n",
      "relevance 3: 3.60 +- 0.490\n",
      "relevance 4: 3.40 +- 0.490\n",
      "relevance 5: 2.20 +- 0.400\n",
      "relevance 6: 1.80 +- 0.400\n",
      "relevance 7: 1.00 +- 0.000\n",
      "relevance 8: 1.00 +- 0.000\n",
      "relevance 9: 1.00 +- 1.095\n"
     ]
    }
   ],
   "source": [
    "import numpy as np\n",
    "\n",
    "def compute_mean_and_sigma(ranking_data):\n",
    "    average_relevance = np.mean(ranking_data, axis=0)\n",
    "    sigma = np.std(ranking_data, axis=0)\n",
    "    return average_relevance, sigma\n",
    "\n",
    "def print_relevance_stats(average_relevance, sigma):\n",
    "    for i, (mean, std) in enumerate(zip(average_relevance, sigma)):\n",
    "        print(f\"relevance {i}: {mean:.2f} +- {std:.3f}\")\n",
    "\n",
    "average_relevance, sigma = compute_mean_and_sigma(ranking_data)\n",
    "print_relevance_stats(average_relevance, sigma)"
   ]
  },
  {
   "cell_type": "markdown",
   "id": "70a88642-87aa-42c1-b913-83eb9b22d973",
   "metadata": {},
   "source": [
    "Fleiss kappa score"
   ]
  },
  {
   "cell_type": "code",
   "execution_count": 3,
   "id": "06e63c2c-090d-4da1-b0b8-45ec2538e635",
   "metadata": {},
   "outputs": [
    {
     "name": "stdout",
     "output_type": "stream",
     "text": [
      "Requirement already satisfied: statsmodels in ./venv/lib/python3.10/site-packages (0.13.5)\n",
      "Requirement already satisfied: patsy>=0.5.2 in ./venv/lib/python3.10/site-packages (from statsmodels) (0.5.3)\n",
      "Requirement already satisfied: scipy>=1.3 in ./venv/lib/python3.10/site-packages (from statsmodels) (1.10.1)\n",
      "Requirement already satisfied: numpy>=1.17 in ./venv/lib/python3.10/site-packages (from statsmodels) (1.24.3)\n",
      "Requirement already satisfied: pandas>=0.25 in ./venv/lib/python3.10/site-packages (from statsmodels) (2.0.1)\n",
      "Requirement already satisfied: packaging>=21.3 in ./venv/lib/python3.10/site-packages (from statsmodels) (23.1)\n",
      "Requirement already satisfied: pytz>=2020.1 in ./venv/lib/python3.10/site-packages (from pandas>=0.25->statsmodels) (2023.3)\n",
      "Requirement already satisfied: python-dateutil>=2.8.2 in ./venv/lib/python3.10/site-packages (from pandas>=0.25->statsmodels) (2.8.2)\n",
      "Requirement already satisfied: tzdata>=2022.1 in ./venv/lib/python3.10/site-packages (from pandas>=0.25->statsmodels) (2023.3)\n",
      "Requirement already satisfied: six in ./venv/lib/python3.10/site-packages (from patsy>=0.5.2->statsmodels) (1.16.0)\n"
     ]
    }
   ],
   "source": [
    "!pip install statsmodels"
   ]
  },
  {
   "cell_type": "code",
   "execution_count": 4,
   "id": "6cb6cbb6-7768-42f0-aed3-215488d15bc2",
   "metadata": {},
   "outputs": [
    {
     "name": "stdout",
     "output_type": "stream",
     "text": [
      "aggregate: [[0 0 0 1 4]\n",
      " [0 0 0 1 4]\n",
      " [0 0 0 0 5]\n",
      " [0 0 0 2 3]\n",
      " [0 0 0 3 2]\n",
      " [0 0 4 1 0]\n",
      " [0 1 4 0 0]\n",
      " [0 5 0 0 0]\n",
      " [0 5 0 0 0]\n",
      " [2 2 0 1 0]]\n",
      "categories: [0 1 2 3 4]\n",
      "kappa: 0.5156081808396124\n"
     ]
    }
   ],
   "source": [
    "from statsmodels.stats.inter_rater import aggregate_raters, fleiss_kappa\n",
    "\n",
    "aggregate, categories = aggregate_raters(ranking_data.T)\n",
    "print(f\"aggregate: {aggregate}\")\n",
    "print(f\"categories: {categories}\")\n",
    "print(f\"kappa: {fleiss_kappa(aggregate)}\")"
   ]
  },
  {
   "cell_type": "code",
   "execution_count": 5,
   "id": "819076f9",
   "metadata": {},
   "outputs": [
    {
     "data": {
      "text/plain": [
       "array([4, 3, 4, 3, 3, 2, 1, 1, 1, 1])"
      ]
     },
     "execution_count": 5,
     "metadata": {},
     "output_type": "execute_result"
    }
   ],
   "source": [
    "ranking_data[1]"
   ]
  },
  {
   "cell_type": "markdown",
   "id": "3bd6069e-e8a1-4483-b1f2-bf5f4e982283",
   "metadata": {},
   "source": [
    "Kendall tau score is pairwise. Compare one to another."
   ]
  },
  {
   "cell_type": "code",
   "execution_count": 19,
   "id": "6e7f5f22-74a4-47cd-848a-09c8e1abb39c",
   "metadata": {},
   "outputs": [
    {
     "name": "stdout",
     "output_type": "stream",
     "text": [
      "SignificanceResult(statistic=1.0, pvalue=0.0003088313222505534)\n",
      "SignificanceResult(statistic=0.8336550215650926, pvalue=0.0031006074932690315)\n",
      "SignificanceResult(statistic=0.8058665208462562, pvalue=0.004249822778780865)\n",
      "SignificanceResult(statistic=0.8648648648648649, pvalue=0.001807038191371059)\n",
      "SignificanceResult(statistic=0.6301961180038697, pvalue=0.024354510892408494)\n",
      "SignificanceResult(statistic=0.8336550215650926, pvalue=0.0031006074932690315)\n",
      "SignificanceResult(statistic=1.0, pvalue=0.0004868116335943063)\n",
      "SignificanceResult(statistic=0.7142857142857143, pvalue=0.012725353282910863)\n",
      "SignificanceResult(statistic=0.8336550215650926, pvalue=0.0031006074932690315)\n",
      "SignificanceResult(statistic=0.7606388292556648, pvalue=0.007541335489120731)\n",
      "SignificanceResult(statistic=0.8058665208462562, pvalue=0.004249822778780865)\n",
      "SignificanceResult(statistic=0.7142857142857143, pvalue=0.012725353282910863)\n",
      "SignificanceResult(statistic=1.0, pvalue=0.0004868116335943063)\n",
      "SignificanceResult(statistic=0.8058665208462562, pvalue=0.004249822778780865)\n",
      "SignificanceResult(statistic=0.6761234037828133, pvalue=0.017546057402278197)\n",
      "SignificanceResult(statistic=0.8648648648648649, pvalue=0.001807038191371059)\n",
      "SignificanceResult(statistic=0.8336550215650926, pvalue=0.0031006074932690315)\n",
      "SignificanceResult(statistic=0.8058665208462562, pvalue=0.004249822778780865)\n",
      "SignificanceResult(statistic=1.0, pvalue=0.0003088313222505534)\n",
      "SignificanceResult(statistic=0.7671952740916673, pvalue=0.006126285196739042)\n",
      "SignificanceResult(statistic=0.6301961180038697, pvalue=0.024354510892408494)\n",
      "SignificanceResult(statistic=0.760638829255665, pvalue=0.007541335489120731)\n",
      "SignificanceResult(statistic=0.6761234037828132, pvalue=0.017546057402278197)\n",
      "SignificanceResult(statistic=0.7671952740916674, pvalue=0.006126285196739042)\n",
      "SignificanceResult(statistic=1.0, pvalue=0.0004036931514350384)\n"
     ]
    }
   ],
   "source": [
    "from scipy.stats import kendalltau\n",
    "\n",
    "for a in ranking_data:\n",
    "    for b in ranking_data:\n",
    "        print(kendalltau(a, b))"
   ]
  },
  {
   "cell_type": "markdown",
   "id": "9eed044a-9a49-432d-b7a6-7591087d0de7",
   "metadata": {},
   "source": [
    "# 2. Engineer work\n",
    "\n",
    "You will create a bucket of URLs which are relevant for the query **\"free cloud git\"**. Then you will automate the search procedure using https://serpapi.com/, or https://developers.google.com/custom-search/v1/overview, or whatever.\n",
    "\n",
    "Then you will compute MRR@10 and Precision@10.\n",
    "\n",
    "## 2.1. Build your bucket here"
   ]
  },
  {
   "cell_type": "code",
   "execution_count": 7,
   "id": "e11aa566-0ab3-48d7-959c-ab6cb875d7ac",
   "metadata": {},
   "outputs": [],
   "source": [
    "rel_bucket = [\n",
    "    \"github.com\",\n",
    "    \"gitpod.io\",\n",
    "    \"bitbucket.org\",\n",
    "    \"gitlab.com\",\n",
    "    \"source.cloud.google.com\",\n",
    "    \"sourceforge.net\",\n",
    "    \"aws.amazon.com/codecommit/\",\n",
    "    \"launchpad.net\",\n",
    "]\n",
    "\n",
    "query = \"free git cloud\""
   ]
  },
  {
   "cell_type": "markdown",
   "id": "d501aa5e-7051-4039-930b-b293c49721e1",
   "metadata": {},
   "source": [
    "## 2.2. Relevance assessment\n",
    "\n",
    "Write the code to check that the obtained document is relevant (True) or not (False)."
   ]
  },
  {
   "cell_type": "code",
   "execution_count": 8,
   "id": "450a610f-c121-4781-8719-1dcfd4892625",
   "metadata": {},
   "outputs": [],
   "source": [
    "def is_rel(resp_url):\n",
    "    for u in rel_bucket:\n",
    "        if u in resp_url:\n",
    "            return True\n",
    "    return False"
   ]
  },
  {
   "cell_type": "markdown",
   "id": "5c3c2ea8-19c1-44b5-8fc2-fa4e23182dae",
   "metadata": {},
   "source": [
    "## 2.3. Automation\n",
    "\n",
    "Get search results from the automation tool you use."
   ]
  },
  {
   "cell_type": "code",
   "execution_count": 9,
   "id": "ffe12796-1c95-45d8-9d0d-de9bb65aeea9",
   "metadata": {},
   "outputs": [],
   "source": [
    "api_key = \"5aff1ae53da3a991a97d770bf1991833ba30a97d68925ede4cb0003285c727ba\""
   ]
  },
  {
   "cell_type": "code",
   "execution_count": 10,
   "id": "a849862d-ad6d-48c9-bf86-2606b9923c46",
   "metadata": {},
   "outputs": [],
   "source": [
    "import requests \n",
    "\n",
    "url = f\"https://serpapi.com/search.json?q={query}&hl=en&gl=us&google_domain=google.com&api_key={api_key}\"\n",
    "js = requests.get(url).json()"
   ]
  },
  {
   "cell_type": "code",
   "execution_count": 11,
   "id": "4da0af32",
   "metadata": {},
   "outputs": [
    {
     "data": {
      "text/plain": [
       "[{'position': 1,\n",
       "  'title': '6 places to host your git repository',\n",
       "  'link': 'https://opensource.com/article/18/8/github-alternatives',\n",
       "  'displayed_link': 'https://opensource.com › article › github-alternatives',\n",
       "  'date': 'Aug 30, 2018',\n",
       "  'snippet': '6 places to host your git repository · Option 1: GitHub. Seriously, this is a valid option. · Option 2: GitLab. GitLab is probably the leading ...',\n",
       "  'snippet_highlighted_words': ['git', 'GitLab', 'GitLab'],\n",
       "  'about_this_result': {'source': {'description': 'opensource.com was first indexed by Google more than 10 years ago',\n",
       "    'source_info_link': 'https://opensource.com/article/18/8/github-alternatives',\n",
       "    'security': 'secure',\n",
       "    'icon': 'https://serpapi.com/searches/644e9ae73d6919be0d75b56d/images/9342f6b9e9a6299ec0f3e90583a7c2ddb9b0429d2f20ee87da265736fe5f9211a40ebd7fe76747a901370ccf7a78181c.png'}},\n",
       "  'about_page_link': 'https://www.google.com/search?q=About+https://opensource.com/article/18/8/github-alternatives&tbm=ilp&ilps=ADJL0ixSdt3nP_FMWoIHzb1Jb5F1zouBBQ',\n",
       "  'about_page_serpapi_link': 'https://serpapi.com/search.json?engine=google_about_this_result&google_domain=google.com&ilps=ADJL0ixSdt3nP_FMWoIHzb1Jb5F1zouBBQ&q=About+https%3A%2F%2Fopensource.com%2Farticle%2F18%2F8%2Fgithub-alternatives',\n",
       "  'cached_page_link': 'https://webcache.googleusercontent.com/search?q=cache:uroABc3MxO4J:https://opensource.com/article/18/8/github-alternatives&cd=1&hl=en&ct=clnk&gl=us',\n",
       "  'source': 'Opensource.com'},\n",
       " {'position': 2,\n",
       "  'title': 'Gitpod: Always ready to code.',\n",
       "  'link': 'https://www.gitpod.io/',\n",
       "  'displayed_link': 'https://www.gitpod.io',\n",
       "  'snippet': \"Gitpod is a cloud development environment for teams to efficiently and securely develop software. Improve your team's developer experience by coding in a ...\",\n",
       "  'snippet_highlighted_words': ['cloud'],\n",
       "  'sitelinks': {'inline': [{'title': 'CDE',\n",
       "     'link': 'https://www.gitpod.io/cde'},\n",
       "    {'title': 'Enterprise', 'link': 'https://www.gitpod.io/for/enterprise'},\n",
       "    {'title': 'Customers', 'link': 'https://www.gitpod.io/customers'},\n",
       "    {'title': 'Pricing', 'link': 'https://www.gitpod.io/pricing'}]},\n",
       "  'about_this_result': {'source': {'description': 'gitpod.io was first indexed by Google in March 2018',\n",
       "    'source_info_link': 'https://www.gitpod.io/',\n",
       "    'security': 'secure',\n",
       "    'icon': 'https://serpapi.com/searches/644e9ae73d6919be0d75b56d/images/9342f6b9e9a6299ec0f3e90583a7c2dd61104904f6dba631aa93c34dab1737071584b1954c92ed065085e46206bf0677.png'}},\n",
       "  'about_page_link': 'https://www.google.com/search?q=About+https://www.gitpod.io/&tbm=ilp&ilps=ADJL0iwHxsY6ZHF-zx8dq_ns82wJw1taqQ',\n",
       "  'about_page_serpapi_link': 'https://serpapi.com/search.json?engine=google_about_this_result&google_domain=google.com&ilps=ADJL0iwHxsY6ZHF-zx8dq_ns82wJw1taqQ&q=About+https%3A%2F%2Fwww.gitpod.io%2F',\n",
       "  'cached_page_link': 'https://webcache.googleusercontent.com/search?q=cache:aFYe_Xdq3doJ:https://www.gitpod.io/&cd=11&hl=en&ct=clnk&gl=us',\n",
       "  'source': 'Gitpod'},\n",
       " {'position': 3,\n",
       "  'title': '14 Git Hosting Services Compared | Tower Blog',\n",
       "  'link': 'https://www.git-tower.com/blog/git-hosting-services-compared/',\n",
       "  'displayed_link': 'https://www.git-tower.com › blog › git-hosting-service...',\n",
       "  'snippet': 'With an OpenSource background, GitLab offers a fast-evolving platform for code collaboration. The free community edition and the enterprise edition can be ...',\n",
       "  'snippet_highlighted_words': ['GitLab', 'free'],\n",
       "  'about_this_result': {'source': {'description': 'git-tower.com was first indexed by Google more than 10 years ago',\n",
       "    'source_info_link': 'https://www.git-tower.com/blog/git-hosting-services-compared/',\n",
       "    'security': 'secure',\n",
       "    'icon': 'https://serpapi.com/searches/644e9ae73d6919be0d75b56d/images/9342f6b9e9a6299ec0f3e90583a7c2ddb3bca6e0360a8b81b8920e7e39e92b04c70e062ec84b93f401120823118dcce7.png'}},\n",
       "  'about_page_link': 'https://www.google.com/search?q=About+https://www.git-tower.com/blog/git-hosting-services-compared/&tbm=ilp&ilps=ADJL0izyxpoPK52GrfwlKZeRug6VlNJj1Q',\n",
       "  'about_page_serpapi_link': 'https://serpapi.com/search.json?engine=google_about_this_result&google_domain=google.com&ilps=ADJL0izyxpoPK52GrfwlKZeRug6VlNJj1Q&q=About+https%3A%2F%2Fwww.git-tower.com%2Fblog%2Fgit-hosting-services-compared%2F',\n",
       "  'cached_page_link': 'https://webcache.googleusercontent.com/search?q=cache:nRnBMV8qsZkJ:https://www.git-tower.com/blog/git-hosting-services-compared/&cd=12&hl=en&ct=clnk&gl=us',\n",
       "  'related_pages_link': 'https://www.google.com/search?hl=en&gl=us&q=related:https://www.git-tower.com/blog/git-hosting-services-compared/+free+git+cloud',\n",
       "  'source': 'Tower Git Client'},\n",
       " {'position': 4,\n",
       "  'title': 'Bitbucket | Git solution for teams using Jira',\n",
       "  'link': 'https://bitbucket.org/product',\n",
       "  'displayed_link': 'https://bitbucket.org › product',\n",
       "  'snippet': 'Bitbucket Cloud is a Git-based code and CI/CD tool optimized for teams using Jira.',\n",
       "  'snippet_highlighted_words': ['Cloud', 'Git'],\n",
       "  'sitelinks': {'inline': [{'title': 'Pricing',\n",
       "     'link': 'https://bitbucket.org/product/pricing'},\n",
       "    {'title': 'Open and close the navigation menu',\n",
       "     'link': 'https://bitbucket.org/product/enterprise'},\n",
       "    {'title': 'Why Bitbucket',\n",
       "     'link': 'https://bitbucket.org/product/features/pipelines'},\n",
       "    {'title': 'Product Guide',\n",
       "     'link': 'https://bitbucket.org/product/guides'}]},\n",
       "  'about_this_result': {'source': {'description': 'Bitbucket is a Git-based source code repository hosting service owned by Atlassian. Bitbucket offers both commercial plans and free accounts with an unlimited number of private repositories.',\n",
       "    'source_info_link': 'https://bitbucket.org/product',\n",
       "    'security': 'secure',\n",
       "    'icon': 'https://serpapi.com/searches/644e9ae73d6919be0d75b56d/images/9342f6b9e9a6299ec0f3e90583a7c2dd904eef7e780dc8f87dda414ac41f2152becfe0504375df25c60181c5421f3120.png'}},\n",
       "  'about_page_link': 'https://www.google.com/search?q=About+https://bitbucket.org/&tbm=ilp&ilps=ADJL0iyZ1CLObcgdYe0s4xhsAl_t7ccSrA',\n",
       "  'about_page_serpapi_link': 'https://serpapi.com/search.json?engine=google_about_this_result&google_domain=google.com&ilps=ADJL0iyZ1CLObcgdYe0s4xhsAl_t7ccSrA&q=About+https%3A%2F%2Fbitbucket.org%2F',\n",
       "  'cached_page_link': 'https://webcache.googleusercontent.com/search?q=cache:nO-ukpgTxroJ:https://bitbucket.org/product&cd=13&hl=en&ct=clnk&gl=us',\n",
       "  'related_pages_link': 'https://www.google.com/search?hl=en&gl=us&q=related:https://bitbucket.org/product+free+git+cloud',\n",
       "  'source': 'Bitbucket'},\n",
       " {'position': 5,\n",
       "  'title': 'GitLab: The DevSecOps Platform',\n",
       "  'link': 'https://about.gitlab.com/',\n",
       "  'displayed_link': 'https://about.gitlab.com',\n",
       "  'snippet': 'Software. Faster. GitLab is the most comprehensive DevSecOps Platform. Get free trial. What is GitLab?',\n",
       "  'snippet_highlighted_words': ['GitLab', 'free', 'GitLab'],\n",
       "  'sitelinks': {'inline': [{'title': 'Pricing',\n",
       "     'link': 'https://about.gitlab.com/pricing/'},\n",
       "    {'title': 'Company', 'link': 'https://about.gitlab.com/company/'},\n",
       "    {'title': 'Resources', 'link': 'https://about.gitlab.com/install/'},\n",
       "    {'title': 'Platform', 'link': 'https://about.gitlab.com/platform/'}]},\n",
       "  'about_this_result': {'source': {'description': 'GitLab Inc. is an open-core company that operates GitLab, a DevOps software package which can develop, secure, and operate software. The open source software project was created by Ukrainian developer Dmytro Zaporozhets and Dutch developer Sytse Sijbrandij.',\n",
       "    'source_info_link': 'https://about.gitlab.com/',\n",
       "    'security': 'secure',\n",
       "    'icon': 'https://serpapi.com/searches/644e9ae73d6919be0d75b56d/images/9342f6b9e9a6299ec0f3e90583a7c2dda3a32a656e0315fa8781f8005e46e74dc433e5444cc9eeb541cdf7493dcc8024.png'}},\n",
       "  'about_page_link': 'https://www.google.com/search?q=About+https://about.gitlab.com/&tbm=ilp&ilps=ADJL0ixn7aH-gJkC7LgTgK9DcmDVgKqLLQ',\n",
       "  'about_page_serpapi_link': 'https://serpapi.com/search.json?engine=google_about_this_result&google_domain=google.com&ilps=ADJL0ixn7aH-gJkC7LgTgK9DcmDVgKqLLQ&q=About+https%3A%2F%2Fabout.gitlab.com%2F',\n",
       "  'source': 'GitLab'},\n",
       " {'position': 6,\n",
       "  'title': 'Git',\n",
       "  'link': 'https://git-scm.com/',\n",
       "  'displayed_link': 'https://git-scm.com',\n",
       "  'snippet': 'Git is a free and open source distributed version control system designed to handle everything from small to very large projects with speed and efficiency.',\n",
       "  'snippet_highlighted_words': ['Git', 'free'],\n",
       "  'about_this_result': {'source': {'description': 'Git is a distributed version control system that tracks changes in any set of computer files, usually used for coordinating work among programmers collaboratively developing source code during software development. Its goals include speed, data integrity, and support for distributed, non-linear workflows.',\n",
       "    'source_info_link': 'https://git-scm.com/',\n",
       "    'security': 'secure',\n",
       "    'icon': 'https://serpapi.com/searches/644e9ae73d6919be0d75b56d/images/9342f6b9e9a6299ec0f3e90583a7c2dd5ccf7815aa21132f1a25b0d89d5c1a8f3d0706ce0c9c08d8dafceca164cc8fbf.png'}},\n",
       "  'about_page_link': 'https://www.google.com/search?q=About+https://git-scm.com/&tbm=ilp&ilps=ADJL0iw73gtfZwq4aNTSk7cwRt3vhaSzew',\n",
       "  'about_page_serpapi_link': 'https://serpapi.com/search.json?engine=google_about_this_result&google_domain=google.com&ilps=ADJL0iw73gtfZwq4aNTSk7cwRt3vhaSzew&q=About+https%3A%2F%2Fgit-scm.com%2F',\n",
       "  'cached_page_link': 'https://webcache.googleusercontent.com/search?q=cache:8wtA6r8r9WkJ:https://git-scm.com/&cd=15&hl=en&ct=clnk&gl=us',\n",
       "  'related_pages_link': 'https://www.google.com/search?hl=en&gl=us&q=related:https://git-scm.com/+free+git+cloud',\n",
       "  'source': 'Git SCM'},\n",
       " {'position': 7,\n",
       "  'title': 'Best 13 Free Version Control Hosting Software Picks in 2023',\n",
       "  'link': 'https://www.g2.com/categories/version-control-hosting/free',\n",
       "  'displayed_link': 'https://www.g2.com › categories › free',\n",
       "  'snippet': 'Top 10 Free Version Control Hosting Software in 2023. GitHub; Bitbucket; GitLab; Assembla; Buddy; Helix Core; Beanstalk; Glitch; Plastic SCM ...',\n",
       "  'snippet_highlighted_words': ['Free', 'GitLab'],\n",
       "  'about_this_result': {'source': {'description': 'G2.com, formerly G2 Crowd, is a peer-to-peer review site headquartered in Chicago, Illinois. It was known as G2 Labs, Inc. until 2013. The company was launched in May 2012 by former BigMachines employees, with a focus on aggregating user reviews for business software.',\n",
       "    'source_info_link': 'https://www.g2.com/categories/version-control-hosting/free',\n",
       "    'security': 'secure',\n",
       "    'icon': 'https://serpapi.com/searches/644e9ae73d6919be0d75b56d/images/9342f6b9e9a6299ec0f3e90583a7c2dd04c8a7420414160e520f014681b52aa942e23119c81fe3ae4ed504b97694d6f2.png'}},\n",
       "  'about_page_link': 'https://www.google.com/search?q=About+https://www.g2.com/categories/version-control-hosting/free&tbm=ilp&ilps=ADJL0iykydkYTpElphFhBUHnMqLngfjqdw',\n",
       "  'about_page_serpapi_link': 'https://serpapi.com/search.json?engine=google_about_this_result&google_domain=google.com&ilps=ADJL0iykydkYTpElphFhBUHnMqLngfjqdw&q=About+https%3A%2F%2Fwww.g2.com%2Fcategories%2Fversion-control-hosting%2Ffree',\n",
       "  'cached_page_link': 'https://webcache.googleusercontent.com/search?q=cache:W7ls1rBkpsEJ:https://www.g2.com/categories/version-control-hosting/free&cd=16&hl=en&ct=clnk&gl=us',\n",
       "  'source': 'G2'},\n",
       " {'position': 8,\n",
       "  'title': 'Top 10 best Git hosting solutions and services in 2021',\n",
       "  'link': 'https://www.devopsschool.com/blog/top-5-git-hosting-solutions/',\n",
       "  'displayed_link': 'https://www.devopsschool.com › blog › top-5-git-host...',\n",
       "  'date': 'Sep 1, 2021',\n",
       "  'snippet': 'Free for 5 users – you can get an unlimited number of free private ... provides private and unlimited Git repository hosting in the cloud.',\n",
       "  'snippet_highlighted_words': ['Free', 'free', 'Git', 'cloud'],\n",
       "  'about_this_result': {'source': {'description': 'devopsschool.com was first indexed by Google in May 2013',\n",
       "    'source_info_link': 'https://www.devopsschool.com/blog/top-5-git-hosting-solutions/',\n",
       "    'security': 'secure',\n",
       "    'icon': 'https://serpapi.com/searches/644e9ae73d6919be0d75b56d/images/9342f6b9e9a6299ec0f3e90583a7c2dd39bf4baeef3309b17596f1c1f0fd5fbf5de82d99e13b2a28fc017b3e3ba57b19.png'}},\n",
       "  'about_page_link': 'https://www.google.com/search?q=About+https://www.devopsschool.com/blog/top-5-git-hosting-solutions/&tbm=ilp&ilps=ADJL0iw2parat_aXIO21zKvDygn3NLmiwg',\n",
       "  'about_page_serpapi_link': 'https://serpapi.com/search.json?engine=google_about_this_result&google_domain=google.com&ilps=ADJL0iw2parat_aXIO21zKvDygn3NLmiwg&q=About+https%3A%2F%2Fwww.devopsschool.com%2Fblog%2Ftop-5-git-hosting-solutions%2F',\n",
       "  'cached_page_link': 'https://webcache.googleusercontent.com/search?q=cache:7C2fdl6h4LcJ:https://www.devopsschool.com/blog/top-5-git-hosting-solutions/&cd=17&hl=en&ct=clnk&gl=us',\n",
       "  'source': 'DevOps School'},\n",
       " {'position': 9,\n",
       "  'title': 'Top GitHub Alternatives to Host Your Open Source Projects',\n",
       "  'link': 'https://itsfoss.com/github-alternatives/',\n",
       "  'displayed_link': 'https://itsfoss.com › github-alternatives',\n",
       "  'snippet': '1. GitLab · 2. Bitbucket · 3. SourceForge · 4. Launchpad · 5. Google Cloud Source Repositories · 7. GitBucket (Self-Hosted) · 8. Gogs (Self-Hosted) · 9. Gitea (Self- ...',\n",
       "  'snippet_highlighted_words': ['GitLab', 'Cloud', 'GitBucket'],\n",
       "  'about_this_result': {'source': {'description': 'itsfoss.com was first indexed by Google more than 10 years ago',\n",
       "    'source_info_link': 'https://itsfoss.com/github-alternatives/',\n",
       "    'security': 'secure',\n",
       "    'icon': 'https://serpapi.com/searches/644e9ae73d6919be0d75b56d/images/9342f6b9e9a6299ec0f3e90583a7c2dd63bff011469f78f5a444e496af17b6ca041ec5d95ab90994a78574aa06a47a7f.png'}},\n",
       "  'about_page_link': 'https://www.google.com/search?q=About+https://itsfoss.com/github-alternatives/&tbm=ilp&ilps=ADJL0iyJH--KJF7aq5WBWFon7x5eceEyFg',\n",
       "  'about_page_serpapi_link': 'https://serpapi.com/search.json?engine=google_about_this_result&google_domain=google.com&ilps=ADJL0iyJH--KJF7aq5WBWFon7x5eceEyFg&q=About+https%3A%2F%2Fitsfoss.com%2Fgithub-alternatives%2F',\n",
       "  'cached_page_link': 'https://webcache.googleusercontent.com/search?q=cache:hOM9hTPolKEJ:https://itsfoss.com/github-alternatives/&cd=18&hl=en&ct=clnk&gl=us',\n",
       "  'source': \"It's FOSS\"},\n",
       " {'position': 10,\n",
       "  'title': 'Best free git hosting? : r/git',\n",
       "  'link': 'https://www.reddit.com/r/git/comments/46t07s/best_free_git_hosting/',\n",
       "  'displayed_link': 'https://www.reddit.com › git › comments › best_free_...',\n",
       "  'snippet': \"gitlab is nice in the cloud for unlimited private, but gogs is way better for self hosting, as it's written in Go and statically compiled, while gitlab is one ...\",\n",
       "  'snippet_highlighted_words': ['gitlab', 'cloud', 'gitlab'],\n",
       "  'about_this_result': {'source': {'description': 'This result comes from www.reddit.com',\n",
       "    'source_info_link': 'https://www.reddit.com/r/git/comments/46t07s/best_free_git_hosting/',\n",
       "    'security': 'secure',\n",
       "    'icon': 'https://serpapi.com/searches/644e9ae73d6919be0d75b56d/images/9342f6b9e9a6299ec0f3e90583a7c2dd4bd9b59666c0f44a9c92aa2ec7cf62a38f439cbd3d08ef2dd30b52985c026eb2.png'}},\n",
       "  'about_page_link': 'https://www.google.com/search?q=About+https://www.reddit.com/r/git/comments/46t07s/best_free_git_hosting/&tbm=ilp&ilps=ADJL0iymuGTq31BlcmpcKHn5EU-nqHpR2w',\n",
       "  'about_page_serpapi_link': 'https://serpapi.com/search.json?engine=google_about_this_result&google_domain=google.com&ilps=ADJL0iymuGTq31BlcmpcKHn5EU-nqHpR2w&q=About+https%3A%2F%2Fwww.reddit.com%2Fr%2Fgit%2Fcomments%2F46t07s%2Fbest_free_git_hosting%2F',\n",
       "  'cached_page_link': 'https://webcache.googleusercontent.com/search?q=cache:H6jwq8--10wJ:https://www.reddit.com/r/git/comments/46t07s/best_free_git_hosting/&cd=19&hl=en&ct=clnk&gl=us',\n",
       "  'related_pages_link': 'https://www.google.com/search?hl=en&gl=us&q=related:https://www.reddit.com/r/git/comments/46t07s/best_free_git_hosting/+free+git+cloud',\n",
       "  'source': 'Reddit'}]"
      ]
     },
     "execution_count": 11,
     "metadata": {},
     "output_type": "execute_result"
    }
   ],
   "source": [
    "js['organic_results']"
   ]
  },
  {
   "cell_type": "code",
   "execution_count": 12,
   "id": "434e58a5-77a8-4d54-a495-8540361f6df7",
   "metadata": {},
   "outputs": [
    {
     "name": "stdout",
     "output_type": "stream",
     "text": [
      "1 6 places to host your git repository\n",
      "https://opensource.com/article/18/8/github-alternatives\n",
      "False\n",
      "\n",
      "2 Gitpod: Always ready to code.\n",
      "https://www.gitpod.io/\n",
      "True\n",
      "\n",
      "3 14 Git Hosting Services Compared | Tower Blog\n",
      "https://www.git-tower.com/blog/git-hosting-services-compared/\n",
      "False\n",
      "\n",
      "4 Bitbucket | Git solution for teams using Jira\n",
      "https://bitbucket.org/product\n",
      "True\n",
      "\n",
      "5 GitLab: The DevSecOps Platform\n",
      "https://about.gitlab.com/\n",
      "True\n",
      "\n",
      "6 Git\n",
      "https://git-scm.com/\n",
      "False\n",
      "\n",
      "7 Best 13 Free Version Control Hosting Software Picks in 2023\n",
      "https://www.g2.com/categories/version-control-hosting/free\n",
      "False\n",
      "\n",
      "8 Top 10 best Git hosting solutions and services in 2021\n",
      "https://www.devopsschool.com/blog/top-5-git-hosting-solutions/\n",
      "False\n",
      "\n",
      "9 Top GitHub Alternatives to Host Your Open Source Projects\n",
      "https://itsfoss.com/github-alternatives/\n",
      "False\n",
      "\n",
      "10 Best free git hosting? : r/git\n",
      "https://www.reddit.com/r/git/comments/46t07s/best_free_git_hosting/\n",
      "False\n",
      "\n"
     ]
    }
   ],
   "source": [
    "rels = []\n",
    "for result in js[\"organic_results\"]:\n",
    "    print(result['position'], result['title'])\n",
    "    print(result['link'])\n",
    "    print(is_rel(result['link']))\n",
    "    rels.append(int(is_rel(result['link'])))\n",
    "    print()"
   ]
  },
  {
   "cell_type": "code",
   "execution_count": 13,
   "id": "70849db7-918b-4b17-b045-3a5a06927936",
   "metadata": {},
   "outputs": [
    {
     "data": {
      "text/plain": [
       "[0, 1, 0, 1, 1, 0, 0, 0, 0, 0]"
      ]
     },
     "execution_count": 13,
     "metadata": {},
     "output_type": "execute_result"
    }
   ],
   "source": [
    "rels"
   ]
  },
  {
   "cell_type": "markdown",
   "id": "285eb724-2188-45d3-be78-cffb91bacee8",
   "metadata": {},
   "source": [
    "## 2.4. MRR\n",
    "\n",
    "Compute MRR:"
   ]
  },
  {
   "cell_type": "code",
   "execution_count": 24,
   "id": "33c40e3b-24d2-4c7b-860e-d543c1281f01",
   "metadata": {},
   "outputs": [
    {
     "data": {
      "text/plain": [
       "0.5"
      ]
     },
     "execution_count": 24,
     "metadata": {},
     "output_type": "execute_result"
    }
   ],
   "source": [
    "def mrr(list_of_lists, k=10):\n",
    "    r = 0\n",
    "    for l in list_of_lists:\n",
    "        r += (1 / (k + 1)) if 1 not in l else 1 / (l.index(1) + 1)\n",
    "        #print(r)\n",
    "    return r / len(list_of_lists)\n",
    "\n",
    "mrr([rels])"
   ]
  },
  {
   "cell_type": "markdown",
   "id": "d644d32d-3d15-4d81-b3b5-396af0e85dd1",
   "metadata": {},
   "source": [
    "## 2.5. Precision\n",
    "Compute mean precision:"
   ]
  },
  {
   "cell_type": "code",
   "execution_count": 25,
   "id": "5be58a4a-deeb-48cd-9f81-cae0be9a8493",
   "metadata": {},
   "outputs": [
    {
     "data": {
      "text/plain": [
       "0.3"
      ]
     },
     "execution_count": 25,
     "metadata": {},
     "output_type": "execute_result"
    }
   ],
   "source": [
    "def mean_precision(list_of_lists, k=10):\n",
    "    p = 0\n",
    "    for l in list_of_lists:\n",
    "        p += sum(l) / k\n",
    "    return p / len(list_of_lists)\n",
    "\n",
    "mean_precision([rels])"
   ]
  }
 ],
 "metadata": {
  "kernelspec": {
   "display_name": "Python 3 (ipykernel)",
   "language": "python",
   "name": "python3"
  },
  "language_info": {
   "codemirror_mode": {
    "name": "ipython",
    "version": 3
   },
   "file_extension": ".py",
   "mimetype": "text/x-python",
   "name": "python",
   "nbconvert_exporter": "python",
   "pygments_lexer": "ipython3",
   "version": "3.10.6"
  }
 },
 "nbformat": 4,
 "nbformat_minor": 5
}
